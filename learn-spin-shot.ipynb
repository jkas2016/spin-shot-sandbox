{
 "cells": [
  {
   "metadata": {},
   "cell_type": "markdown",
   "source": [
    "# SpinShots : Dynamic Image Rotation & GIF Maker\n",
    "\n",
    "1.\t이미지 불러오기: Pillow(PIL)를 이용해 이미지를 RGBA 모드로 불러옵니다.\n",
    "2.\t회전 및 중앙 정렬: 특정 각도(angle)로 이미지를 회전시킨 뒤, 주어진 캔버스 크기 내에서 중앙에 맞춰 붙여 넣습니다.\n",
    "3.\t애니메이션 프레임 생성: 여러 각도로 회전된 이미지를 프레임 리스트로 생성합니다.\n",
    "4.\tGIF 저장: 생성된 프레임 리스트를 이용해 GIF 파일로 저장합니다."
   ],
   "id": "fa4edccd6bb76da0"
  },
  {
   "metadata": {},
   "cell_type": "markdown",
   "source": [
    "## 1. 라이브러리 임포트\n",
    "\n",
    "Pillow(PIL) 라이브러리를 사용하기 위해 임포트합니다."
   ],
   "id": "7024fb01eb37b59a"
  },
  {
   "metadata": {
    "ExecuteTime": {
     "end_time": "2025-01-10T16:18:59.651893Z",
     "start_time": "2025-01-10T16:18:59.625809Z"
    }
   },
   "cell_type": "code",
   "source": "from PIL import Image",
   "id": "197e69c7691b216f",
   "outputs": [],
   "execution_count": 1
  },
  {
   "metadata": {},
   "cell_type": "markdown",
   "source": [
    "## 2. 입력(또는 설정) 값 정의\n",
    "\n",
    "사용할 이미지 파일 이름, 캔버스 크기, 회전 각도 범위 등과 같은 설정값을 셀에서 정의합니다."
   ],
   "id": "770be044e296c56e"
  },
  {
   "metadata": {
    "ExecuteTime": {
     "end_time": "2025-01-10T16:19:30.679296Z",
     "start_time": "2025-01-10T16:19:30.673980Z"
    }
   },
   "cell_type": "code",
   "source": [
    "# 이미지 파일 이름(확장자 제외)\n",
    "image_file_name = \"IMG_6006\"\n",
    "\n",
    "# GIF로 만들고자 하는 캔버스 크기\n",
    "canvas_size = (550, 550)\n",
    "\n",
    "# 회전 각도 스텝(예: 0도~360도까지 몇 도 간격으로 회전할지)\n",
    "angle_step = 60\n",
    "\n",
    "# GIF 프레임 간 지속 시간(밀리초)\n",
    "duration = 100\n",
    "\n",
    "# 루프 횟수(0이면 무한 반복)\n",
    "loop = 0\n",
    "\n",
    "# 이미지 경로 및 GIF 출력 경로\n",
    "image_path = f\"assets/{image_file_name}.PNG\"\n",
    "output_gif_path = f\"assets/{image_file_name}.gif\"\n",
    "\n",
    "print(f\"이미지 경로: {image_path}\")\n",
    "print(f\"GIF 출력 경로: {output_gif_path}\")"
   ],
   "id": "99655bd16a30181b",
   "outputs": [
    {
     "name": "stdout",
     "output_type": "stream",
     "text": [
      "이미지 경로: assets/IMG_6006.PNG\n",
      "GIF 출력 경로: assets/IMG_6006.gif\n"
     ]
    }
   ],
   "execution_count": 2
  },
  {
   "metadata": {},
   "cell_type": "markdown",
   "source": [
    "## 3. 이미지 불러오기\n",
    "\n",
    "이미지가 RGBA 모드로 열려 있는지 확인합니다. RGBA 모드로 변환해야 투명한 배경을 활용할 수 있습니다."
   ],
   "id": "f126d7b6ff733c68"
  },
  {
   "metadata": {
    "ExecuteTime": {
     "end_time": "2025-01-10T16:19:34.079522Z",
     "start_time": "2025-01-10T16:19:34.031766Z"
    }
   },
   "cell_type": "code",
   "source": [
    "original_image = Image.open(image_path).convert(\"RGBA\")\n",
    "print(f\"불러온 이미지 크기: {original_image.size}\")"
   ],
   "id": "ea172dd988ac44dc",
   "outputs": [
    {
     "name": "stdout",
     "output_type": "stream",
     "text": [
      "불러온 이미지 크기: (840, 675)\n"
     ]
    }
   ],
   "execution_count": 3
  },
  {
   "metadata": {},
   "cell_type": "markdown",
   "source": [
    "## 4. 회전 이미지를 캔버스 중앙에 배치하는 함수 정의\n",
    "\n",
    "- image.rotate(angle, ...)로 이미지를 회전합니다.\n",
    "- 회전된 이미지를 새 투명 캔버스(Image.new(\"RGBA\", size, (255, 255, 255, 0)))에 중앙 정렬하여 붙여 넣습니다."
   ],
   "id": "4cbd53230c08ea58"
  },
  {
   "metadata": {
    "ExecuteTime": {
     "end_time": "2025-01-10T16:19:40.240623Z",
     "start_time": "2025-01-10T16:19:40.235106Z"
    }
   },
   "cell_type": "code",
   "source": [
    "def create_rotated_frame(image: Image, rotate_angle: int, size: tuple[int, int]) -> Image:\n",
    "    \"\"\"\n",
    "    주어진 image를 angle만큼 회전시키고,\n",
    "    RGBA 모드의 투명 배경 캔버스에 중앙 정렬하여 합성한 후 반환합니다.\n",
    "\n",
    "    :param image: 회전할 원본 이미지 (PIL Image 객체)\n",
    "    :param rotate_angle: 회전 각도 (정수)\n",
    "    :param size: 캔버스 크기 (튜플)\n",
    "    :return: 중앙 정렬된 회전 이미지를 담은 RGBA 모드의 PIL Image 객체\n",
    "    \"\"\"\n",
    "    # 이미지 회전\n",
    "    rotated_image = image.rotate(rotate_angle, resample=Image.BICUBIC, expand=True)\n",
    "\n",
    "    # 투명한 캔버스 생성\n",
    "    canvas = Image.new(\"RGBA\", size, (255, 255, 255, 0))\n",
    "\n",
    "    # 중앙 정렬을 위한 x, y 좌표 오프셋 계산\n",
    "    x_offset = (size[0] - rotated_image.width) // 2\n",
    "    y_offset = (size[1] - rotated_image.height) // 2\n",
    "\n",
    "    # 투명 캔버스에 붙여넣기\n",
    "    canvas.paste(rotated_image, (x_offset, y_offset), rotated_image)\n",
    "\n",
    "    return canvas"
   ],
   "id": "f2a15c99ef0f0654",
   "outputs": [],
   "execution_count": 4
  },
  {
   "metadata": {},
   "cell_type": "markdown",
   "source": [
    "## 5. GIF 프레임 생성\n",
    "\n",
    "- 0도부터 360도 직전까지 angle_step 간격으로 회전 각도를 지정해 순회합니다.\n",
    "- create_rotated_frame() 함수를 통해 프레임을 생성하고 리스트에 담습니다."
   ],
   "id": "5f24daeb3d5a295"
  },
  {
   "metadata": {
    "ExecuteTime": {
     "end_time": "2025-01-10T16:19:43.763979Z",
     "start_time": "2025-01-10T16:19:43.605424Z"
    }
   },
   "cell_type": "code",
   "source": [
    "frames = []\n",
    "for angle in range(0, 360, angle_step):\n",
    "    frame = create_rotated_frame(original_image, angle, canvas_size)\n",
    "    frames.append(frame)\n",
    "\n",
    "print(f\"생성된 프레임 수: {len(frames)}\")"
   ],
   "id": "2119d95de7542ee5",
   "outputs": [
    {
     "name": "stdout",
     "output_type": "stream",
     "text": [
      "생성된 프레임 수: 6\n"
     ]
    }
   ],
   "execution_count": 5
  },
  {
   "metadata": {},
   "cell_type": "markdown",
   "source": [
    "## 6. 프레임을 GIF로 저장하기\n",
    "\n",
    "- 첫 번째 프레임을 기준으로 save_all=True, append_images=frames[1:] 옵션을 사용해 GIF 형태로 저장합니다.\n",
    "- duration과 loop 옵션을 사용해 이미지 전환 속도와 재생 횟수를 설정합니다.\n",
    "- disposal=2 옵션을 통해 프레임이 전환될 때마다 이전 프레임의 정보를 지우고 새 프레임으로 덮어쓰도록 설정합니다."
   ],
   "id": "fc288c911722f91a"
  },
  {
   "metadata": {
    "ExecuteTime": {
     "end_time": "2025-01-10T16:19:46.534768Z",
     "start_time": "2025-01-10T16:19:46.469934Z"
    }
   },
   "cell_type": "code",
   "source": [
    "frames[0].save(\n",
    "    output_gif_path,\n",
    "    save_all=True,\n",
    "    append_images=frames[1:],\n",
    "    duration=duration,\n",
    "    loop=loop,\n",
    "    disposal=2\n",
    ")\n",
    "\n",
    "print(\"GIF 생성이 완료되었습니다!\")\n",
    "print(f\"저장 경로: {output_gif_path}\")"
   ],
   "id": "93875034047a1af9",
   "outputs": [
    {
     "name": "stdout",
     "output_type": "stream",
     "text": [
      "GIF 생성이 완료되었습니다!\n",
      "저장 경로: assets/IMG_6006.gif\n"
     ]
    }
   ],
   "execution_count": 6
  }
 ],
 "metadata": {
  "kernelspec": {
   "display_name": "Python 3",
   "language": "python",
   "name": "python3"
  },
  "language_info": {
   "codemirror_mode": {
    "name": "ipython",
    "version": 2
   },
   "file_extension": ".py",
   "mimetype": "text/x-python",
   "name": "python",
   "nbconvert_exporter": "python",
   "pygments_lexer": "ipython2",
   "version": "2.7.6"
  }
 },
 "nbformat": 4,
 "nbformat_minor": 5
}
